{
 "metadata": {
  "name": "",
  "signature": "sha256:26260c4941a4408f572e34aeb1ca6c8dac7e11a20b4e68228f84ff6daf0c6fcf"
 },
 "nbformat": 3,
 "nbformat_minor": 0,
 "worksheets": [
  {
   "cells": [
    {
     "cell_type": "code",
     "collapsed": false,
     "input": [
      "\n"
     ],
     "language": "python",
     "metadata": {},
     "outputs": [],
     "prompt_number": 0
    },
    {
     "cell_type": "code",
     "collapsed": false,
     "input": [
      "a = 2\n",
      "\n",
      "print \"adf asdfl \", a"
     ],
     "language": "python",
     "metadata": {},
     "outputs": [
      {
       "output_type": "stream",
       "stream": "stdout",
       "text": [
        "adf asdfl  2\n"
       ]
      }
     ],
     "prompt_number": 20
    },
    {
     "cell_type": "code",
     "collapsed": false,
     "input": [
      "from subprocess import call\n",
      "from os import listdir\n",
      "from os.path import isfile, join\n",
      "local_dir = \"/home/k3/work/lab/fastq\"\n",
      "files = [f for f in listdir(local_dir) if isfile(join(local_dir, f))]                                                                                                           \n",
      "for zip_file in files:              \n",
      "    print zip_file                  \n",
      "    call([\"7z\",\"e\", zip_file])  "
     ],
     "language": "python",
     "metadata": {},
     "outputs": [
      {
       "output_type": "stream",
       "stream": "stdout",
       "text": [
        "sample2.fastq.bz2\n",
        "sample1.fastq.gz\n"
       ]
      }
     ],
     "prompt_number": 18
    },
    {
     "cell_type": "code",
     "collapsed": false,
     "input": [
      "def f(x):\n",
      "    return {\n",
      "        'a': 1,\n",
      "        'b': 2,\n",
      "        }.get(x, 9) \n",
      "\n",
      "f('1')"
     ],
     "language": "python",
     "metadata": {},
     "outputs": [
      {
       "metadata": {},
       "output_type": "pyout",
       "prompt_number": 7,
       "text": [
        "9"
       ]
      }
     ],
     "prompt_number": 7
    },
    {
     "cell_type": "code",
     "collapsed": false,
     "input": [
      "Tissue = (\n",
      "    ('tissue1'), ('tissue2'),\n",
      "    ('tissuedsf'), ('3kihdsfasf'),\n",
      ")\n",
      "Tissue2 = (\n",
      "    ('tissue1'), \n",
      "    ('tissuedsf'), \n",
      "    ('3kihdsfasf'),\n",
      ")\n",
      "\n",
      "type(Tissue)\n",
      "import json\n",
      "print json.dumps(Tissue2)"
     ],
     "language": "python",
     "metadata": {},
     "outputs": []
    },
    {
     "cell_type": "code",
     "collapsed": false,
     "input": [
      "l = \"#Quality    Count\"\n",
      "l.split('\\t')"
     ],
     "language": "python",
     "metadata": {},
     "outputs": [
      {
       "metadata": {},
       "output_type": "pyout",
       "prompt_number": 1,
       "text": [
        "['#Quality    Count']"
       ]
      }
     ],
     "prompt_number": 1
    },
    {
     "cell_type": "code",
     "collapsed": false,
     "input": [
      "Data = {\n",
      "    'Tissues': (('Tissue_A'),\n",
      "                ('Taaaaa'),\n",
      "                ('Tissue_B'), \n",
      "                ('raisdf'),\n",
      "                ('asdfasdf'),\n",
      "                ('asdf'),\n",
      "                ('Taaadfasd'),),\n",
      "  \n",
      "    'Diseases': (('Disease A'),\n",
      "                 ('Disease C'),\n",
      "                 ('Disease B'),\n",
      "                 ('Disease B'),)\n",
      "}   \n",
      "    \n",
      "\n",
      "import json\n",
      "\n",
      "def json_data(field, query):\n",
      "    data = []\n",
      "    for q in Data[field]:\n",
      "        if query.lower() in q.lower():\n",
      "            data.append(q)\n",
      "    return json.dumps(data)\n",
      "                       \n",
      "    \n",
      "json_data('Tissues', 'a')"
     ],
     "language": "python",
     "metadata": {},
     "outputs": [
      {
       "metadata": {},
       "output_type": "pyout",
       "prompt_number": 33,
       "text": [
        "'[\"Tissue_A\", \"Taaaaa\", \"raisdf\", \"asdfasdf\", \"asdf\", \"Taaadfasd\"]'"
       ]
      }
     ],
     "prompt_number": 33
    }
   ],
   "metadata": {}
  }
 ]
}