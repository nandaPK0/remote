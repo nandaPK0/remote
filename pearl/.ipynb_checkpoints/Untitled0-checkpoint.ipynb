{
 "metadata": {
  "name": "",
  "signature": "sha256:ffb5fed2c61f874f6562c650b3e591d55b863144fdd6456b7f2c1e3e29ae0067"
 },
 "nbformat": 3,
 "nbformat_minor": 0,
 "worksheets": [
  {
   "cells": [
    {
     "cell_type": "code",
     "collapsed": false,
     "input": [
      "\n"
     ],
     "language": "python",
     "metadata": {},
     "outputs": [],
     "prompt_number": 6
    },
    {
     "cell_type": "code",
     "collapsed": false,
     "input": [
      "from apps.accounts.models import Customer\n",
      "customer_id = 66\n",
      "customer = Customer.objects.get(user_id=customer_id)\n",
      "print customer\n"
     ],
     "language": "python",
     "metadata": {},
     "outputs": [
      {
       "output_type": "stream",
       "stream": "stderr",
       "text": [
        "DEBUG:django.db.backends:(0.001) SELECT `accounts_customer`.`id`, `accounts_customer`.`user_id`, `accounts_customer`.`name`, `accounts_customer`.`company`, `accounts_customer`.`phone_number`, `accounts_customer`.`timezone` FROM `accounts_customer` WHERE `accounts_customer`.`user_id` = 66 ; args=(66,)\n"
       ]
      },
      {
       "output_type": "stream",
       "stream": "stderr",
       "text": [
        "DEBUG:django.db.backends:(0.001) SELECT `auth_user`.`id`, `auth_user`.`password`, `auth_user`.`last_login`, `auth_user`.`is_superuser`, `auth_user`.`username`, `auth_user`.`first_name`, `auth_user`.`last_name`, `auth_user`.`email`, `auth_user`.`is_staff`, `auth_user`.`is_active`, `auth_user`.`date_joined` FROM `auth_user` WHERE `auth_user`.`id` = 66 ; args=(66,)\n"
       ]
      },
      {
       "output_type": "stream",
       "stream": "stdout",
       "text": [
        "testpearl\n"
       ]
      }
     ],
     "prompt_number": 66
    },
    {
     "cell_type": "code",
     "collapsed": false,
     "input": [
      "from django.core.urlresolvers import  reverse\n",
      "reverse('project:project_dashboard')\n",
      "reverse('project:project_qcreport', kwargs={'project_id': 55})"
     ],
     "language": "python",
     "metadata": {},
     "outputs": [
      {
       "ename": "NoReverseMatch",
       "evalue": "Reverse for 'project_qcreport' with arguments '()' and keyword arguments '{'project_id': 55}' not found. 1 pattern(s) tried: [u'project/qcreport/(\\\\d+)/$']",
       "output_type": "pyerr",
       "traceback": [
        "\u001b[1;31m---------------------------------------------------------------------------\u001b[0m\n\u001b[1;31mNoReverseMatch\u001b[0m                            Traceback (most recent call last)",
        "\u001b[1;32m<ipython-input-78-65214c48b1f4>\u001b[0m in \u001b[0;36m<module>\u001b[1;34m()\u001b[0m\n\u001b[0;32m      1\u001b[0m \u001b[1;32mfrom\u001b[0m \u001b[0mdjango\u001b[0m\u001b[1;33m.\u001b[0m\u001b[0mcore\u001b[0m\u001b[1;33m.\u001b[0m\u001b[0murlresolvers\u001b[0m \u001b[1;32mimport\u001b[0m  \u001b[0mreverse\u001b[0m\u001b[1;33m\u001b[0m\u001b[0m\n\u001b[0;32m      2\u001b[0m \u001b[0mreverse\u001b[0m\u001b[1;33m(\u001b[0m\u001b[1;34m'project:project_dashboard'\u001b[0m\u001b[1;33m)\u001b[0m\u001b[1;33m\u001b[0m\u001b[0m\n\u001b[1;32m----> 3\u001b[1;33m \u001b[0mreverse\u001b[0m\u001b[1;33m(\u001b[0m\u001b[1;34m'project:project_qcreport'\u001b[0m\u001b[1;33m,\u001b[0m \u001b[0mkwargs\u001b[0m\u001b[1;33m=\u001b[0m\u001b[1;33m{\u001b[0m\u001b[1;34m'project_id'\u001b[0m\u001b[1;33m:\u001b[0m \u001b[1;36m55\u001b[0m\u001b[1;33m}\u001b[0m\u001b[1;33m)\u001b[0m\u001b[1;33m\u001b[0m\u001b[0m\n\u001b[0m",
        "\u001b[1;32m/home/k3/work/p/local/lib/python2.7/site-packages/django/core/urlresolvers.pyc\u001b[0m in \u001b[0;36mreverse\u001b[1;34m(viewname, urlconf, args, kwargs, prefix, current_app)\u001b[0m\n\u001b[0;32m    530\u001b[0m             \u001b[0mresolver\u001b[0m \u001b[1;33m=\u001b[0m \u001b[0mget_ns_resolver\u001b[0m\u001b[1;33m(\u001b[0m\u001b[0mns_pattern\u001b[0m\u001b[1;33m,\u001b[0m \u001b[0mresolver\u001b[0m\u001b[1;33m)\u001b[0m\u001b[1;33m\u001b[0m\u001b[0m\n\u001b[0;32m    531\u001b[0m \u001b[1;33m\u001b[0m\u001b[0m\n\u001b[1;32m--> 532\u001b[1;33m     \u001b[1;32mreturn\u001b[0m \u001b[0miri_to_uri\u001b[0m\u001b[1;33m(\u001b[0m\u001b[0mresolver\u001b[0m\u001b[1;33m.\u001b[0m\u001b[0m_reverse_with_prefix\u001b[0m\u001b[1;33m(\u001b[0m\u001b[0mview\u001b[0m\u001b[1;33m,\u001b[0m \u001b[0mprefix\u001b[0m\u001b[1;33m,\u001b[0m \u001b[1;33m*\u001b[0m\u001b[0margs\u001b[0m\u001b[1;33m,\u001b[0m \u001b[1;33m**\u001b[0m\u001b[0mkwargs\u001b[0m\u001b[1;33m)\u001b[0m\u001b[1;33m)\u001b[0m\u001b[1;33m\u001b[0m\u001b[0m\n\u001b[0m\u001b[0;32m    533\u001b[0m \u001b[1;33m\u001b[0m\u001b[0m\n\u001b[0;32m    534\u001b[0m \u001b[0mreverse_lazy\u001b[0m \u001b[1;33m=\u001b[0m \u001b[0mlazy\u001b[0m\u001b[1;33m(\u001b[0m\u001b[0mreverse\u001b[0m\u001b[1;33m,\u001b[0m \u001b[0mstr\u001b[0m\u001b[1;33m)\u001b[0m\u001b[1;33m\u001b[0m\u001b[0m\n",
        "\u001b[1;32m/home/k3/work/p/local/lib/python2.7/site-packages/django/core/urlresolvers.pyc\u001b[0m in \u001b[0;36m_reverse_with_prefix\u001b[1;34m(self, lookup_view, _prefix, *args, **kwargs)\u001b[0m\n\u001b[0;32m    450\u001b[0m         raise NoReverseMatch(\"Reverse for '%s' with arguments '%s' and keyword \"\n\u001b[0;32m    451\u001b[0m                 \u001b[1;34m\"arguments '%s' not found. %d pattern(s) tried: %s\"\u001b[0m \u001b[1;33m%\u001b[0m\u001b[1;33m\u001b[0m\u001b[0m\n\u001b[1;32m--> 452\u001b[1;33m                              (lookup_view_s, args, kwargs, len(patterns), patterns))\n\u001b[0m\u001b[0;32m    453\u001b[0m \u001b[1;33m\u001b[0m\u001b[0m\n\u001b[0;32m    454\u001b[0m \u001b[1;32mclass\u001b[0m \u001b[0mLocaleRegexURLResolver\u001b[0m\u001b[1;33m(\u001b[0m\u001b[0mRegexURLResolver\u001b[0m\u001b[1;33m)\u001b[0m\u001b[1;33m:\u001b[0m\u001b[1;33m\u001b[0m\u001b[0m\n",
        "\u001b[1;31mNoReverseMatch\u001b[0m: Reverse for 'project_qcreport' with arguments '()' and keyword arguments '{'project_id': 55}' not found. 1 pattern(s) tried: [u'project/qcreport/(\\\\d+)/$']"
       ]
      }
     ],
     "prompt_number": 78
    },
    {
     "cell_type": "code",
     "collapsed": false,
     "input": [
      "from django.conf import settings\n",
      "from pearl import settings as s\n",
      "print s, settings\n",
      "if s == settings:\n",
      "    print 'same'\n",
      "if hasattr(settings, 'PUBLIC_URLS'):\n",
      "    print settings.PUBLIC_URLS\n",
      "from apps.accounts.middleware import EnforceLoginMiddleware\n",
      "e = EnforceLoginMiddleware()\n",
      "e.login_url\n",
      "import re\n",
      "[re.compile(url) for url in settings.PUBLIC_URLS]\n"
     ],
     "language": "python",
     "metadata": {},
     "outputs": [
      {
       "output_type": "stream",
       "stream": "stdout",
       "text": [
        "<module 'pearl.settings' from 'pearl/settings.pyc'> <django.conf.LazySettings object at 0x7f1c64c45050>\n",
        "('/', '/home/', '/home/faq/', '/accounts/register/', '/accounts/login/')\n"
       ]
      },
      {
       "metadata": {},
       "output_type": "pyout",
       "prompt_number": 6,
       "text": [
        "[re.compile(r'/'),\n",
        " re.compile(r'/home/'),\n",
        " re.compile(r'/home/faq/'),\n",
        " re.compile(r'/accounts/register/'),\n",
        " re.compile(r'/accounts/login/')]"
       ]
      }
     ],
     "prompt_number": 6
    },
    {
     "cell_type": "code",
     "collapsed": false,
     "input": [
      "from pytz import all_timezones\n",
      "#print all_timezones\n",
      "from pytz import common_timezones\n",
      "#print common_timezones\n",
      "from pytz import common_timezones_set\n",
      "#print common_timezones_set\n",
      "from pytz import country_timezones\n",
      "#print country_timezones\n",
      "\n",
      "import datetime\n",
      "now = datetime.datetime.now()\n",
      "print now\n",
      "\n",
      "from django.utils.timezone import utc\n",
      "new_now = datetime.datetime.utcnow().replace(tzinfo=utc)\n",
      "print new_now\n",
      "\n",
      "from django.utils import timezone\n",
      "\n"
     ],
     "language": "python",
     "metadata": {},
     "outputs": [
      {
       "output_type": "stream",
       "stream": "stdout",
       "text": [
        "2014-07-26 07:21:15.118220\n",
        "2014-07-26 07:21:15.118456+00:00\n"
       ]
      }
     ],
     "prompt_number": 10
    },
    {
     "cell_type": "code",
     "collapsed": false,
     "input": [
      "from apps.project.functions import json_data\n",
      "json_data()\n",
      "from apps.project.models import NewProject\n",
      "n = NewProject.objects.all()\n",
      "n0 = n[0]\n",
      "\n",
      "if n0.start_pocessing:\n",
      "    print 'start'\n"
     ],
     "language": "python",
     "metadata": {},
     "outputs": [
      {
       "ename": "TypeError",
       "evalue": "json_data() takes exactly 1 argument (0 given)",
       "output_type": "pyerr",
       "traceback": [
        "\u001b[1;31m---------------------------------------------------------------------------\u001b[0m\n\u001b[1;31mTypeError\u001b[0m                                 Traceback (most recent call last)",
        "\u001b[1;32m<ipython-input-10-6a05ba339ab3>\u001b[0m in \u001b[0;36m<module>\u001b[1;34m()\u001b[0m\n\u001b[0;32m      1\u001b[0m \u001b[1;32mfrom\u001b[0m \u001b[0mapps\u001b[0m\u001b[1;33m.\u001b[0m\u001b[0mproject\u001b[0m\u001b[1;33m.\u001b[0m\u001b[0mfunctions\u001b[0m \u001b[1;32mimport\u001b[0m \u001b[0mjson_data\u001b[0m\u001b[1;33m\u001b[0m\u001b[0m\n\u001b[1;32m----> 2\u001b[1;33m \u001b[0mjson_data\u001b[0m\u001b[1;33m(\u001b[0m\u001b[1;33m)\u001b[0m\u001b[1;33m\u001b[0m\u001b[0m\n\u001b[0m",
        "\u001b[1;31mTypeError\u001b[0m: json_data() takes exactly 1 argument (0 given)"
       ]
      }
     ],
     "prompt_number": 10
    },
    {
     "cell_type": "code",
     "collapsed": false,
     "input": [
      "from apps.project.models import NewProject\n",
      "n = NewProject.objects.all()\n",
      "n.delete()\n",
      "print 'deleted all files'\n",
      "\n",
      "from apps.project.models import NewProject\n",
      "NewProject.objects.create(\n",
      "    customer_id = 64,\n",
      "    name = 'test project',\n",
      "    description = 'asdf asdfjlas dflas dflas df',\n",
      "    file_type = 'fastq',\n",
      "    total_fastq_files = 2,\n",
      "    fastq_file1 = 'ftp://localhost/fastq_files/sample1.fastq.gz',\n",
      "    #fastq_file2 = 'ftp://localhost/fastq_files/sample2.fastq.bz2',\n",
      ")"
     ],
     "language": "python",
     "metadata": {},
     "outputs": [
      {
       "output_type": "stream",
       "stream": "stderr",
       "text": [
        "DEBUG:django.db.backends:(0.000) SELECT `project_newproject`.`id`, `project_newproject`.`customer_id`, `project_newproject`.`name`, `project_newproject`.`description`, `project_newproject`.`file_type`, `project_newproject`.`vcf_file1`, `project_newproject`.`total_fastq_files`, `project_newproject`.`fastq_file1`, `project_newproject`.`fastq_file2`, `project_newproject`.`file_list`, `project_newproject`.`paired_end_distance`, `project_newproject`.`tissue`, `project_newproject`.`disease`, `project_newproject`.`status`, `project_newproject`.`start_processing`, `project_newproject`.`created_at`, `project_newproject`.`updated_at` FROM `project_newproject`; args=()\n"
       ]
      },
      {
       "output_type": "stream",
       "stream": "stderr",
       "text": [
        "DEBUG:django.db.backends:(0.000) DELETE FROM `project_projectreport` WHERE `project_projectreport`.`project_id` IN (51, 52); args=(51, 52)\n"
       ]
      },
      {
       "output_type": "stream",
       "stream": "stderr",
       "text": [
        "DEBUG:django.db.backends:(0.000) DELETE FROM `project_newproject` WHERE `id` IN (52, 51); args=(52, 51)\n"
       ]
      },
      {
       "output_type": "stream",
       "stream": "stderr",
       "text": [
        "DEBUG:django.db.backends:(0.000) INSERT INTO `project_newproject` (`customer_id`, `name`, `description`, `file_type`, `vcf_file1`, `total_fastq_files`, `fastq_file1`, `fastq_file2`, `file_list`, `paired_end_distance`, `tissue`, `disease`, `status`, `start_processing`, `created_at`, `updated_at`) VALUES (64, 'test project', 'asdf asdfjlas dflas dflas df', 'fastq', '', 2, 'ftp://localhost/fastq_files/sample1.fastq.gz', '', '', NULL, '', '', 0, 0, '2014-07-28 10:29:01', '2014-07-28 10:29:01'); args=[64, 'test project', 'asdf asdfjlas dflas dflas df', 'fastq', u'', 2, 'ftp://localhost/fastq_files/sample1.fastq.gz', u'', u'', None, u'', u'', 0, False, u'2014-07-28 10:29:01', u'2014-07-28 10:29:01']\n"
       ]
      },
      {
       "output_type": "stream",
       "stream": "stdout",
       "text": [
        "deleted all files\n"
       ]
      },
      {
       "metadata": {},
       "output_type": "pyout",
       "prompt_number": 67,
       "text": [
        "<NewProject: test project>"
       ]
      }
     ],
     "prompt_number": 67
    },
    {
     "cell_type": "code",
     "collapsed": false,
     "input": [
      "from apps.project.models import NewProject\n",
      "n = NewProject.objects.all()\n",
      "n.delete()\n",
      "print 'deleted all files'"
     ],
     "language": "python",
     "metadata": {},
     "outputs": [
      {
       "output_type": "stream",
       "stream": "stderr",
       "text": [
        "DEBUG:django.db.backends:(0.000) SELECT `project_newproject`.`id`, `project_newproject`.`customer_id`, `project_newproject`.`name`, `project_newproject`.`description`, `project_newproject`.`file_type`, `project_newproject`.`vcf_file1`, `project_newproject`.`total_fastq_files`, `project_newproject`.`fastq_file1`, `project_newproject`.`fastq_file2`, `project_newproject`.`file_list`, `project_newproject`.`paired_end_distance`, `project_newproject`.`tissue`, `project_newproject`.`disease`, `project_newproject`.`status`, `project_newproject`.`start_processing`, `project_newproject`.`created_at`, `project_newproject`.`updated_at` FROM `project_newproject`; args=()\n"
       ]
      },
      {
       "output_type": "stream",
       "stream": "stderr",
       "text": [
        "DEBUG:django.db.backends:(0.000) DELETE FROM `project_projectreport` WHERE `project_projectreport`.`project_id` IN (23); args=(23,)\n"
       ]
      },
      {
       "output_type": "stream",
       "stream": "stderr",
       "text": [
        "DEBUG:django.db.backends:(0.000) DELETE FROM `project_newproject` WHERE `id` IN (23); args=(23,)\n"
       ]
      },
      {
       "output_type": "stream",
       "stream": "stdout",
       "text": [
        "deleted all files\n"
       ]
      }
     ],
     "prompt_number": 30
    },
    {
     "cell_type": "code",
     "collapsed": false,
     "input": [
      "from urlparse import urlsplit\n",
      "url = 'ftp://localhost/fastq_files/adf/asdf/sample1.fastq.gz'\n",
      "urlsplit(url) \n",
      "filename = url.split('/')[-1]\n",
      "file_root = filename.split('.fastq')[0]\n",
      "print file_root\n"
     ],
     "language": "python",
     "metadata": {},
     "outputs": [
      {
       "output_type": "stream",
       "stream": "stdout",
       "text": [
        "sample1\n"
       ]
      }
     ],
     "prompt_number": 40
    },
    {
     "cell_type": "code",
     "collapsed": false,
     "input": [
      "from django.template import loader \n"
     ],
     "language": "python",
     "metadata": {},
     "outputs": []
    },
    {
     "cell_type": "code",
     "collapsed": false,
     "input": [
      "from os.path import relpath\n",
      "relpath('asd12f','asdf/asdlf')\n",
      "\n",
      "from django.db import models\n",
      "m = models.FileField()\n",
      "\n",
      "from pearl.settings import *\n",
      "from pearl.settings import REPORT_DIR\n",
      "print REPORT_DIR\n",
      "print MEDIA_URL\n",
      "print MEDIA_ROOT\n",
      "\n",
      "a =['asd','asd']\n",
      "b = ['as','asd']\n",
      "for i, j in a, b:\n",
      "    print i, j"
     ],
     "language": "python",
     "metadata": {},
     "outputs": [
      {
       "output_type": "stream",
       "stream": "stdout",
       "text": [
        "media/Report/\n",
        "media/\n",
        "media\n",
        "asd asd\n",
        "as asd\n"
       ]
      }
     ],
     "prompt_number": 18
    },
    {
     "cell_type": "code",
     "collapsed": false,
     "input": [
      "s = \"my string\"\n",
      "print s\n",
      "print s.zfill(70)\n",
      "print s.ljust(70)\n",
      "print s.rjust(70)\n",
      "space = \"\"\n",
      "a = 70 - len(s)\n",
      "while a:\n",
      "    space += ' ' \n",
      "    a -= 1\n",
      "print space + s\n"
     ],
     "language": "python",
     "metadata": {},
     "outputs": [
      {
       "output_type": "stream",
       "stream": "stdout",
       "text": [
        "my string\n",
        "0000000000000000000000000000000000000000000000000000000000000my string\n",
        "my string                                                             \n",
        "                                                             my string\n",
        "                                                             my string\n"
       ]
      }
     ],
     "prompt_number": 1
    },
    {
     "cell_type": "code",
     "collapsed": false,
     "input": [
      "def do_twice(f, name):\n",
      "    f(name)\n",
      "    f(name)\n",
      "\n",
      "def print_spam(name):\n",
      "    print name\n",
      "\n",
      "do_twice(print_spam, 'asdf')\n",
      "\n",
      "def do_four(f,v):\n",
      "    do_twice(f,v)\n",
      "    do_twice(f,v)"
     ],
     "language": "python",
     "metadata": {},
     "outputs": [
      {
       "output_type": "stream",
       "stream": "stdout",
       "text": [
        "asdf\n",
        "asdf\n"
       ]
      }
     ],
     "prompt_number": 5
    }
   ],
   "metadata": {}
  }
 ]
}